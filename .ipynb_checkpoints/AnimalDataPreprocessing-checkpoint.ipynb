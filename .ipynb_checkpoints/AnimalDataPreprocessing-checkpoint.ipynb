{
 "cells": [
  {
   "cell_type": "code",
   "execution_count": 4,
   "metadata": {},
   "outputs": [],
   "source": [
    "import matplotlib.pyplot as plt\n",
    "import pandas as pd\n",
    "\n",
    "DATA_FILE_NAME = \"raw_data/train.csv\""
   ]
  },
  {
   "cell_type": "code",
   "execution_count": null,
   "metadata": {},
   "outputs": [],
   "source": [
    "df = pd.read_csv(DATA_FILE_NAME)\n",
    "data_size=len(df)\n",
    "\n",
    "df['Color 1'] = \"\"\n",
    "df['Color 2'] = \"\"\n",
    "df['isPurebred'] = \"\"\n",
    "df['Breed 1'] = \"\"\n",
    "df['Breed 2'] = \"\"\n",
    "\n",
    "for index, row in df.iterrows():\n",
    "    # Split the Color column to two. If there is only one color, write the same to both cells\n",
    "    cur_color=row['Color']\n",
    "    color_lst=sorted(cur_color.split(\"/\"))\n",
    "    df['Color 1'][index]=color_lst[0]\n",
    "    try:\n",
    "        df['Color 2'][index]=color_lst[1]\n",
    "    except IndexError:\n",
    "        df['Color 2'][index]=color_lst[0]\n",
    "    \n",
    "    cur_breed=row['Breed']\n",
    "    breed_lst=sorted(cur_breed.split(\"/\"))\n",
    "    if ('/' not in cur_breed) and ('Mix' not in cur_breed) and ('mix' not in cur_breed):\n",
    "        df['isPurebred'][index] = 1\n",
    "    else:\n",
    "        df['isPurebred'][index] = 0 \n",
    "    df['Breed 1'][index]=(breed_lst[0])\n",
    "    try:\n",
    "        df['Breed 2'][index]=breed_lst[1]\n",
    "    except IndexError:\n",
    "        df['Breed 2'][index]=breed_lst[0]"
   ]
  },
  {
   "cell_type": "code",
   "execution_count": null,
   "metadata": {},
   "outputs": [],
   "source": [
    "new_df = pd.DataFrame()\n",
    "new_df=pd.DataFrame(columns=['OutcomeType','AnimalType','SexuponOutcome','AgeuponOutcome','isPurebred','Breed 1','Breed 2','Color 1','Color 2'])\n",
    "\n",
    "new_df['OutcomeType']=df['OutcomeType']\n",
    "new_df['AnimalType']=df['AnimalType']\n",
    "new_df['SexuponOutcome']=df['SexuponOutcome']\n",
    "new_df['AgeuponOutcome']=df['AgeuponOutcome']\n",
    "new_df['isPurebred'] = df['isPurebred']\n",
    "new_df['Breed 1']=df['Breed 1']\n",
    "new_df['Breed 2']=df['Breed 2']\n",
    "new_df['Color 1']=df['Color 1']\n",
    "new_df['Color 2']=df['Color 2']\n",
    "\n",
    "new_df\n",
    "new_df.to_csv(\"ProcessedData.csv\", index=False)"
   ]
  },
  {
   "cell_type": "code",
   "execution_count": null,
   "metadata": {},
   "outputs": [],
   "source": []
  }
 ],
 "metadata": {
  "kernelspec": {
   "display_name": "Python 3",
   "language": "python",
   "name": "python3"
  },
  "language_info": {
   "codemirror_mode": {
    "name": "ipython",
    "version": 3
   },
   "file_extension": ".py",
   "mimetype": "text/x-python",
   "name": "python",
   "nbconvert_exporter": "python",
   "pygments_lexer": "ipython3",
   "version": "3.6.7"
  }
 },
 "nbformat": 4,
 "nbformat_minor": 2
}
